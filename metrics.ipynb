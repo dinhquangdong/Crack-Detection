{
 "cells": [
  {
   "cell_type": "markdown",
   "metadata": {},
   "source": [
    "### Đánh giá hiệu suất của DeepCrack và CrackFormer"
   ]
  },
  {
   "cell_type": "code",
   "execution_count": 1,
   "metadata": {},
   "outputs": [],
   "source": [
    "import numpy as np\n",
    "import cv2\n",
    "import matplotlib.pyplot as plt\n",
    "import os\n",
    "from glob import glob\n",
    "from tqdm import tqdm\n",
    "from sklearn.metrics import accuracy_score, f1_score, recall_score, precision_score, jaccard_score\n",
    "\n",
    "import torch\n",
    "from torchvision import transforms\n",
    "\n",
    "from DeepCrack.codes.model.deepcrack import DeepCrack\n",
    "from CrackFormerII.CrackFormerII.nets.crackformerII import crackformer"
   ]
  },
  {
   "cell_type": "code",
   "execution_count": 2,
   "metadata": {},
   "outputs": [
    {
     "data": {
      "text/plain": [
       "'cuda'"
      ]
     },
     "execution_count": 2,
     "metadata": {},
     "output_type": "execute_result"
    }
   ],
   "source": [
    "device = 'cuda' if torch.cuda.is_available() else 'cpu'\n",
    "device"
   ]
  },
  {
   "cell_type": "code",
   "execution_count": 3,
   "metadata": {},
   "outputs": [],
   "source": [
    "def load_models():\n",
    "    deepcrack_model = DeepCrack()\n",
    "    deepcrack_model.load_state_dict(torch.load(\"DeepCrack/codes/checkpoints/DeepCrack_CT260_FT1.pth\"))\n",
    "    deepcrack_model.to(device)\n",
    "    deepcrack_model.eval()\n",
    "    \n",
    "    crackformer_model = crackformer()\n",
    "    crackformer_model.load_state_dict(torch.load(\"CrackFormerII/CrackFormerII/model/cracktree/crack260.pth\"))\n",
    "    crackformer_model.to(device)\n",
    "    crackformer_model.eval()\n",
    "    \n",
    "    return deepcrack_model, crackformer_model"
   ]
  },
  {
   "cell_type": "code",
   "execution_count": 4,
   "metadata": {},
   "outputs": [],
   "source": [
    "deepcrack_model, crackformer_model = load_models()"
   ]
  },
  {
   "cell_type": "code",
   "execution_count": 5,
   "metadata": {},
   "outputs": [],
   "source": [
    "def preprocess_image(image):\n",
    "    transform = transforms.Compose([\n",
    "        transforms.ToTensor(),\n",
    "        transforms.Resize((512, 512), antialias=True),\n",
    "        #transforms.Normalize((0, 0, 0), (1.0, 1.0, 1.0))    # Normalize to [0, 1]\n",
    "    ])\n",
    "    img = transform(image)\n",
    "    img = img.unsqueeze(0)  # reshape img from shape of (C, H, W) to (1, C, H, W)\n",
    "    return img"
   ]
  },
  {
   "cell_type": "code",
   "execution_count": 6,
   "metadata": {},
   "outputs": [
    {
     "data": {
      "image/png": "[encoded data removed]",
      "text/plain": [
       "<Figure size 640x480 with 1 Axes>"
      ]
     },
     "metadata": {},
     "output_type": "display_data"
    }
   ],
   "source": [
    "test_img = cv2.imread(r\"Datasets\\CrackTree260\\image\\6192.jpg\")\n",
    "test_img = preprocess_image(test_img)\n",
    "test_img = test_img.to(device)\n",
    "\n",
    "with torch.no_grad():\n",
    "    pred = deepcrack_model(test_img)[0]\n",
    "output = torch.sigmoid(pred)\n",
    "\n",
    "img_fused = np.squeeze(output.cpu().detach().numpy())\n",
    "plt.imshow(img_fused, cmap=\"gray\")\n",
    "plt.show()"
   ]
  },
  {
   "cell_type": "code",
   "execution_count": 7,
   "metadata": {},
   "outputs": [],
   "source": [
    "images_dir = \"Datasets/CRKWH100/image/\"\n",
    "labels_dir = \"Datasets/CRKWH100/gt/\""
   ]
  },
  {
   "cell_type": "code",
   "execution_count": 13,
   "metadata": {},
   "outputs": [
    {
     "name": "stderr",
     "output_type": "stream",
     "text": [
      "  0%|          | 0/100 [00:00<?, ?it/s]"
     ]
    },
    {
     "name": "stdout",
     "output_type": "stream",
     "text": [
      "torch.Size([1, 1, 512, 512]) torch.Size([1, 1, 512, 512]) (512, 512)\n"
     ]
    },
    {
     "name": "stderr",
     "output_type": "stream",
     "text": [
      "  2%|▏         | 2/100 [00:00<00:46,  2.13it/s]"
     ]
    },
    {
     "name": "stdout",
     "output_type": "stream",
     "text": [
      "torch.Size([1, 1, 512, 512]) torch.Size([1, 1, 512, 512]) (512, 512)\n"
     ]
    },
    {
     "name": "stderr",
     "output_type": "stream",
     "text": [
      "  3%|▎         | 3/100 [00:01<00:51,  1.87it/s]"
     ]
    },
    {
     "name": "stdout",
     "output_type": "stream",
     "text": [
      "torch.Size([1, 1, 512, 512]) torch.Size([1, 1, 512, 512]) (512, 512)\n"
     ]
    },
    {
     "name": "stderr",
     "output_type": "stream",
     "text": [
      "  4%|▍         | 4/100 [00:02<00:54,  1.75it/s]"
     ]
    },
    {
     "name": "stdout",
     "output_type": "stream",
     "text": [
      "torch.Size([1, 1, 512, 512]) torch.Size([1, 1, 512, 512]) (512, 512)\n"
     ]
    },
    {
     "name": "stderr",
     "output_type": "stream",
     "text": [
      "  4%|▍         | 4/100 [00:02<01:06,  1.45it/s]\n"
     ]
    },
    {
     "ename": "KeyboardInterrupt",
     "evalue": "",
     "output_type": "error",
     "traceback": [
      "\u001b[1;31m---------------------------------------------------------------------------\u001b[0m",
      "\u001b[1;31mKeyboardInterrupt\u001b[0m                         Traceback (most recent call last)",
      "Cell \u001b[1;32mIn[13], line 7\u001b[0m\n\u001b[0;32m      4\u001b[0m \u001b[38;5;28;01mfor\u001b[39;00m imagePath, labelPath \u001b[38;5;129;01min\u001b[39;00m tqdm(\u001b[38;5;28mzip\u001b[39m(images, labels), total\u001b[38;5;241m=\u001b[39m\u001b[38;5;28mlen\u001b[39m(images)):\n\u001b[0;32m      5\u001b[0m     \u001b[38;5;66;03m# Read image and predicts\u001b[39;00m\n\u001b[0;32m      6\u001b[0m     image \u001b[38;5;241m=\u001b[39m cv2\u001b[38;5;241m.\u001b[39mimread(imagePath)\n\u001b[1;32m----> 7\u001b[0m     image \u001b[38;5;241m=\u001b[39m \u001b[43mpreprocess_image\u001b[49m\u001b[43m(\u001b[49m\u001b[43mimage\u001b[49m\u001b[43m)\u001b[49m\u001b[38;5;241;43m.\u001b[39;49m\u001b[43mto\u001b[49m\u001b[43m(\u001b[49m\u001b[43mdevice\u001b[49m\u001b[43m)\u001b[49m\n\u001b[0;32m      8\u001b[0m     \u001b[38;5;28;01mwith\u001b[39;00m torch\u001b[38;5;241m.\u001b[39mno_grad():\n\u001b[0;32m      9\u001b[0m         deepcrack_pred \u001b[38;5;241m=\u001b[39m deepcrack_model(image)[\u001b[38;5;241m0\u001b[39m]\n",
      "\u001b[1;31mKeyboardInterrupt\u001b[0m: "
     ]
    }
   ],
   "source": [
    "images = sorted(glob(os.path.join(images_dir, \"*\")))\n",
    "labels = sorted(glob(os.path.join(labels_dir, \"*\")))\n",
    "\n",
    "for imagePath, labelPath in tqdm(zip(images, labels), total=len(images)):\n",
    "    # Read image and predicts\n",
    "    image = cv2.imread(imagePath)\n",
    "    image = preprocess_image(image).to(device)\n",
    "    with torch.no_grad():\n",
    "        deepcrack_pred = deepcrack_model(image)[0]\n",
    "        crackformer_pred = crackformer_model(image)[-1]\n",
    "\n",
    "    # Read label\n",
    "    label = cv2.imread(labelPath, cv2.IMREAD_GRAYSCALE) / 255.0\n",
    "    label = label.astype(np.int32)\n",
    "    \n",
    "    print(deepcrack_pred.shape, crackformer_pred.shape, label.shape)\n",
    "    pass"
   ]
  },
  {
   "cell_type": "code",
   "execution_count": null,
   "metadata": {},
   "outputs": [],
   "source": [
    "label = cv2.imread(r\"Datasets\\CRKWH100\\gt\\1000.bmp\", cv2.IMREAD_GRAYSCALE) / 255\n",
    "plt.imshow(label, cmap=\"gray\")\n",
    "plt.show()"
   ]
  },
  {
   "cell_type": "markdown",
   "metadata": {},
   "source": [
    "## Đánh giá hiệu suất"
   ]
  },
  {
   "cell_type": "code",
   "execution_count": null,
   "metadata": {},
   "outputs": [],
   "source": [
    "images_dir = \"Datasets/CRKWH100/image/\"\n",
    "labels_dir = \"Datasets/CRKWH100/gt/\""
   ]
  },
  {
   "cell_type": "code",
   "execution_count": null,
   "metadata": {},
   "outputs": [],
   "source": [
    "# ODS\n",
    "final_deepcrack_result = []\n",
    "final_crackformer_result = []\n",
    "for thresh in np.arange(0.0, 1.0, 0.01):\n",
    "    print(f\"Thresh = {thresh}\")\n",
    "    \n",
    "    deepcrack_statistics = []\n",
    "    crackformer_statistics = []\n",
    "    \n",
    "    for filename in tqdm(os.listdir(images_dir)):\n",
    "        imgPath = os.path.join(images_dir, filename)    # path to image\n",
    "        lblPath = os.path.join(labels_dir, (os.path.splitext(filename)[0] + \".bmp\"))    # path to label\n",
    "        \n",
    "        img = cv2.imread(imgPath)\n",
    "        lbl = cv2.imread(lblPath, cv2.IMREAD_GRAYSCALE) / 255   # lbl pixels is 0.0 or 1.0\n",
    "        \n",
    "        preprocessed_img = preprocess_image(img).to(device)\n",
    "        lbl = cv2.resize(lbl, (512, 512))   # Resize label to (512, 512)\n",
    "        lbl = lbl.astype('uint8')\n",
    "        \n",
    "        with torch.no_grad():\n",
    "            deepcrack_pred = deepcrack_model(preprocessed_img)[0]\n",
    "            crackformer_pred = crackformer_model(preprocessed_img)[-1]\n",
    "\n",
    "        deepcrack_predicted_mask = torch.sigmoid(deepcrack_pred.squeeze().cpu()).numpy()\n",
    "        crackformer_predicted_mask = torch.sigmoid(crackformer_pred.squeeze().cpu()).numpy()\n",
    "        \n",
    "        deepcrack_pred_binary = (deepcrack_predicted_mask > thresh).astype('uint8')\n",
    "        crackformer_pred_binary = (crackformer_predicted_mask > thresh).astype('uint8')\n",
    "        \n",
    "        deepcrack_statistics.append(get_statistics(deepcrack_pred_binary, lbl))\n",
    "        crackformer_statistics.append(get_statistics(crackformer_pred_binary, lbl))\n",
    "        \n",
    "    tp_deepcrack = np.sum([s[0] for s in deepcrack_statistics])\n",
    "    fp_deepcrack = np.sum([s[1] for s in deepcrack_statistics])\n",
    "    fn_deepcrack = np.sum([s[2] for s in deepcrack_statistics])\n",
    "    \n",
    "    precision_deepcrack = 1.0 if tp_deepcrack==0 and fp_deepcrack==0 else tp_deepcrack / (tp_deepcrack + fp_deepcrack)\n",
    "    recall_deepcrack = tp_deepcrack / (tp_deepcrack + fn_deepcrack)\n",
    "    f1_score_deepcrack = 2 * precision_deepcrack * recall_deepcrack / (precision_deepcrack + recall_deepcrack)\n",
    "    final_deepcrack_result.append([thresh, precision_deepcrack, recall_deepcrack, f1_score_deepcrack])\n",
    "    \n",
    "    \n",
    "    tp_crackformer = np.sum([s[0] for s in crackformer_statistics])\n",
    "    fp_crackformer = np.sum([s[1] for s in crackformer_statistics])\n",
    "    fn_crackformer = np.sum([s[2] for s in crackformer_statistics])\n",
    "    precision_crackformer = 1.0 if tp_crackformer==0 and fp_crackformer==0 else tp_crackformer / (tp_crackformer + fp_crackformer)\n",
    "    recall_crackformer = tp_crackformer / (tp_crackformer + fn_crackformer)\n",
    "    f1_score_crackformer = 2 * precision_crackformer * recall_crackformer / (precision_crackformer + recall_crackformer)\n",
    "    final_crackformer_result.append([thresh, precision_crackformer, recall_crackformer, f1_score_crackformer])"
   ]
  },
  {
   "cell_type": "code",
   "execution_count": null,
   "metadata": {},
   "outputs": [],
   "source": [
    "print(f\"DeepCrack result: {final_deepcrack_result}\")\n",
    "print(f\"CrackFormer result: {final_crackformer_result}\")"
   ]
  },
  {
   "cell_type": "code",
   "execution_count": null,
   "metadata": {},
   "outputs": [],
   "source": [
    "final_deepcrack_result = np.array(final_deepcrack_result)\n",
    "final_crackformer_result = np.array(final_crackformer_result)"
   ]
  },
  {
   "cell_type": "code",
   "execution_count": null,
   "metadata": {},
   "outputs": [],
   "source": [
    "np.savetxt(\"Results/deepcrack_ods.txt\", final_deepcrack_result)\n",
    "np.savetxt(\"Results/crackformer_ods.txt\", final_crackformer_result)"
   ]
  },
  {
   "cell_type": "code",
   "execution_count": null,
   "metadata": {},
   "outputs": [],
   "source": [
    "print(np.amax(final_deepcrack_result, axis=0))\n",
    "print(np.amax(final_crackformer_result, axis=0))"
   ]
  },
  {
   "cell_type": "code",
   "execution_count": null,
   "metadata": {},
   "outputs": [],
   "source": []
  }
 ],
 "metadata": {
  "kernelspec": {
   "display_name": "myenv",
   "language": "python",
   "name": "python3"
  },
  "language_info": {
   "codemirror_mode": {
    "name": "ipython",
    "version": 3
   },
   "file_extension": ".py",
   "mimetype": "text/x-python",
   "name": "python",
   "nbconvert_exporter": "python",
   "pygments_lexer": "ipython3",
   "version": "3.11.5"
  }
 },
 "nbformat": 4,
 "nbformat_minor": 2
}
